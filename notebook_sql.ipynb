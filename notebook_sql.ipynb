{
  "cells": [
    {
      "cell_type": "markdown",
      "metadata": {
        "id": "view-in-github",
        "colab_type": "text"
      },
      "source": [
        "<a href=\"https://colab.research.google.com/github/jesyraf/SQL-Projects/blob/main/notebook_sql.ipynb\" target=\"_parent\"><img src=\"https://colab.research.google.com/assets/colab-badge.svg\" alt=\"Open In Colab\"/></a>"
      ]
    },
    {
      "metadata": {
        "dc": {
          "key": "4"
        },
        "deletable": false,
        "editable": false,
        "run_control": {
          "frozen": true
        },
        "tags": [
          "context"
        ],
        "id": "bdV-DFbgV9VD"
      },
      "cell_type": "markdown",
      "source": [
        "## 1. The World Bank's international debt data\n",
        "\n",
        "<li>What is the total amount of debt that is owed by the countries listed in the dataset?</li>\n",
        "<li>Which country owns the maximum amount of debt and what does that amount look like?</li>\n",
        "<li>What is the average amount of debt owed by countries across different debt indicators?</li>"
      ]
    },
    {
      "metadata": {
        "dc": {
          "key": "4"
        },
        "tags": [
          "sample_code"
        ],
        "trusted": true,
        "id": "hIv8teDFV9VF",
        "outputId": "2f67c905-5991-41db-dd00-5af9fb0cc24b"
      },
      "cell_type": "code",
      "source": [
        "%%sql\n",
        "postgresql:///international_debt\n",
        "    \n",
        "SELECT *\n",
        "from international_debt\n",
        "LIMIT 10\n",
        "    \n",
        "    "
      ],
      "execution_count": null,
      "outputs": [
        {
          "output_type": "stream",
          "text": "10 rows affected.\n",
          "name": "stdout"
        },
        {
          "output_type": "execute_result",
          "execution_count": 75,
          "data": {
            "text/plain": "[('Afghanistan', 'AFG', 'Disbursements on external debt, long-term (DIS, current US$)', 'DT.DIS.DLXF.CD', Decimal('72894453.700000003')),\n ('Afghanistan', 'AFG', 'Interest payments on external debt, long-term (INT, current US$)', 'DT.INT.DLXF.CD', Decimal('53239440.100000001')),\n ('Afghanistan', 'AFG', 'PPG, bilateral (AMT, current US$)', 'DT.AMT.BLAT.CD', Decimal('61739336.899999999')),\n ('Afghanistan', 'AFG', 'PPG, bilateral (DIS, current US$)', 'DT.DIS.BLAT.CD', Decimal('49114729.399999999')),\n ('Afghanistan', 'AFG', 'PPG, bilateral (INT, current US$)', 'DT.INT.BLAT.CD', Decimal('39903620.100000001')),\n ('Afghanistan', 'AFG', 'PPG, multilateral (AMT, current US$)', 'DT.AMT.MLAT.CD', Decimal('39107845')),\n ('Afghanistan', 'AFG', 'PPG, multilateral (DIS, current US$)', 'DT.DIS.MLAT.CD', Decimal('23779724.300000001')),\n ('Afghanistan', 'AFG', 'PPG, multilateral (INT, current US$)', 'DT.INT.MLAT.CD', Decimal('13335820')),\n ('Afghanistan', 'AFG', 'PPG, official creditors (AMT, current US$)', 'DT.AMT.OFFT.CD', Decimal('100847181.900000006')),\n ('Afghanistan', 'AFG', 'PPG, official creditors (DIS, current US$)', 'DT.DIS.OFFT.CD', Decimal('72894453.700000003'))]",
            "text/html": "<table>\n    <tr>\n        <th>country_name</th>\n        <th>country_code</th>\n        <th>indicator_name</th>\n        <th>indicator_code</th>\n        <th>debt</th>\n    </tr>\n    <tr>\n        <td>Afghanistan</td>\n        <td>AFG</td>\n        <td>Disbursements on external debt, long-term (DIS, current US$)</td>\n        <td>DT.DIS.DLXF.CD</td>\n        <td>72894453.700000003</td>\n    </tr>\n    <tr>\n        <td>Afghanistan</td>\n        <td>AFG</td>\n        <td>Interest payments on external debt, long-term (INT, current US$)</td>\n        <td>DT.INT.DLXF.CD</td>\n        <td>53239440.100000001</td>\n    </tr>\n    <tr>\n        <td>Afghanistan</td>\n        <td>AFG</td>\n        <td>PPG, bilateral (AMT, current US$)</td>\n        <td>DT.AMT.BLAT.CD</td>\n        <td>61739336.899999999</td>\n    </tr>\n    <tr>\n        <td>Afghanistan</td>\n        <td>AFG</td>\n        <td>PPG, bilateral (DIS, current US$)</td>\n        <td>DT.DIS.BLAT.CD</td>\n        <td>49114729.399999999</td>\n    </tr>\n    <tr>\n        <td>Afghanistan</td>\n        <td>AFG</td>\n        <td>PPG, bilateral (INT, current US$)</td>\n        <td>DT.INT.BLAT.CD</td>\n        <td>39903620.100000001</td>\n    </tr>\n    <tr>\n        <td>Afghanistan</td>\n        <td>AFG</td>\n        <td>PPG, multilateral (AMT, current US$)</td>\n        <td>DT.AMT.MLAT.CD</td>\n        <td>39107845</td>\n    </tr>\n    <tr>\n        <td>Afghanistan</td>\n        <td>AFG</td>\n        <td>PPG, multilateral (DIS, current US$)</td>\n        <td>DT.DIS.MLAT.CD</td>\n        <td>23779724.300000001</td>\n    </tr>\n    <tr>\n        <td>Afghanistan</td>\n        <td>AFG</td>\n        <td>PPG, multilateral (INT, current US$)</td>\n        <td>DT.INT.MLAT.CD</td>\n        <td>13335820</td>\n    </tr>\n    <tr>\n        <td>Afghanistan</td>\n        <td>AFG</td>\n        <td>PPG, official creditors (AMT, current US$)</td>\n        <td>DT.AMT.OFFT.CD</td>\n        <td>100847181.900000006</td>\n    </tr>\n    <tr>\n        <td>Afghanistan</td>\n        <td>AFG</td>\n        <td>PPG, official creditors (DIS, current US$)</td>\n        <td>DT.DIS.OFFT.CD</td>\n        <td>72894453.700000003</td>\n    </tr>\n</table>"
          },
          "metadata": {}
        }
      ]
    },
    {
      "metadata": {
        "dc": {
          "key": "12"
        },
        "deletable": false,
        "editable": false,
        "run_control": {
          "frozen": true
        },
        "tags": [
          "context"
        ],
        "id": "3QENv6WAV9VG"
      },
      "cell_type": "markdown",
      "source": [
        "## 2. Finding the number of distinct countries\n"
      ]
    },
    {
      "metadata": {
        "dc": {
          "key": "12"
        },
        "tags": [
          "sample_code"
        ],
        "trusted": true,
        "id": "I3Ol0N2QV9VH",
        "outputId": "d40fee75-39c4-4e1f-bffc-df7ad5fa4d11"
      },
      "cell_type": "code",
      "source": [
        "%%sql\n",
        "SELECT \n",
        "    COUNT(DISTINCT country_name) AS total_distinct_countries\n",
        "FROM international_debt;"
      ],
      "execution_count": null,
      "outputs": [
        {
          "output_type": "stream",
          "text": " * postgresql:///international_debt\n1 rows affected.\n",
          "name": "stdout"
        },
        {
          "output_type": "execute_result",
          "execution_count": 77,
          "data": {
            "text/plain": "[(124,)]",
            "text/html": "<table>\n    <tr>\n        <th>total_distinct_countries</th>\n    </tr>\n    <tr>\n        <td>124</td>\n    </tr>\n</table>"
          },
          "metadata": {}
        }
      ]
    },
    {
      "metadata": {
        "dc": {
          "key": "20"
        },
        "deletable": false,
        "editable": false,
        "run_control": {
          "frozen": true
        },
        "tags": [
          "context"
        ],
        "id": "1aB9IaGFV9VI"
      },
      "cell_type": "markdown",
      "source": [
        "## 3. Finding out the distinct debt indicators\n"
      ]
    },
    {
      "metadata": {
        "dc": {
          "key": "20"
        },
        "tags": [
          "sample_code"
        ],
        "trusted": true,
        "id": "XXL3wP8MV9VJ",
        "outputId": "e7f9661f-42a0-44c7-c74b-b2d3fe50c77b"
      },
      "cell_type": "code",
      "source": [
        "%%sql\n",
        "\n",
        "SELECT DISTINCT indicator_code as distinct_debt_indicators\n",
        "FROM international_debt\n",
        "ORDER BY distinct_debt_indicators\n"
      ],
      "execution_count": null,
      "outputs": [
        {
          "output_type": "stream",
          "text": " * postgresql:///international_debt\n25 rows affected.\n",
          "name": "stdout"
        },
        {
          "output_type": "execute_result",
          "execution_count": 79,
          "data": {
            "text/plain": "[('DT.AMT.BLAT.CD',),\n ('DT.AMT.DLXF.CD',),\n ('DT.AMT.DPNG.CD',),\n ('DT.AMT.MLAT.CD',),\n ('DT.AMT.OFFT.CD',),\n ('DT.AMT.PBND.CD',),\n ('DT.AMT.PCBK.CD',),\n ('DT.AMT.PROP.CD',),\n ('DT.AMT.PRVT.CD',),\n ('DT.DIS.BLAT.CD',),\n ('DT.DIS.DLXF.CD',),\n ('DT.DIS.MLAT.CD',),\n ('DT.DIS.OFFT.CD',),\n ('DT.DIS.PCBK.CD',),\n ('DT.DIS.PROP.CD',),\n ('DT.DIS.PRVT.CD',),\n ('DT.INT.BLAT.CD',),\n ('DT.INT.DLXF.CD',),\n ('DT.INT.DPNG.CD',),\n ('DT.INT.MLAT.CD',),\n ('DT.INT.OFFT.CD',),\n ('DT.INT.PBND.CD',),\n ('DT.INT.PCBK.CD',),\n ('DT.INT.PROP.CD',),\n ('DT.INT.PRVT.CD',)]",
            "text/html": "<table>\n    <tr>\n        <th>distinct_debt_indicators</th>\n    </tr>\n    <tr>\n        <td>DT.AMT.BLAT.CD</td>\n    </tr>\n    <tr>\n        <td>DT.AMT.DLXF.CD</td>\n    </tr>\n    <tr>\n        <td>DT.AMT.DPNG.CD</td>\n    </tr>\n    <tr>\n        <td>DT.AMT.MLAT.CD</td>\n    </tr>\n    <tr>\n        <td>DT.AMT.OFFT.CD</td>\n    </tr>\n    <tr>\n        <td>DT.AMT.PBND.CD</td>\n    </tr>\n    <tr>\n        <td>DT.AMT.PCBK.CD</td>\n    </tr>\n    <tr>\n        <td>DT.AMT.PROP.CD</td>\n    </tr>\n    <tr>\n        <td>DT.AMT.PRVT.CD</td>\n    </tr>\n    <tr>\n        <td>DT.DIS.BLAT.CD</td>\n    </tr>\n    <tr>\n        <td>DT.DIS.DLXF.CD</td>\n    </tr>\n    <tr>\n        <td>DT.DIS.MLAT.CD</td>\n    </tr>\n    <tr>\n        <td>DT.DIS.OFFT.CD</td>\n    </tr>\n    <tr>\n        <td>DT.DIS.PCBK.CD</td>\n    </tr>\n    <tr>\n        <td>DT.DIS.PROP.CD</td>\n    </tr>\n    <tr>\n        <td>DT.DIS.PRVT.CD</td>\n    </tr>\n    <tr>\n        <td>DT.INT.BLAT.CD</td>\n    </tr>\n    <tr>\n        <td>DT.INT.DLXF.CD</td>\n    </tr>\n    <tr>\n        <td>DT.INT.DPNG.CD</td>\n    </tr>\n    <tr>\n        <td>DT.INT.MLAT.CD</td>\n    </tr>\n    <tr>\n        <td>DT.INT.OFFT.CD</td>\n    </tr>\n    <tr>\n        <td>DT.INT.PBND.CD</td>\n    </tr>\n    <tr>\n        <td>DT.INT.PCBK.CD</td>\n    </tr>\n    <tr>\n        <td>DT.INT.PROP.CD</td>\n    </tr>\n    <tr>\n        <td>DT.INT.PRVT.CD</td>\n    </tr>\n</table>"
          },
          "metadata": {}
        }
      ]
    },
    {
      "metadata": {
        "dc": {
          "key": "28"
        },
        "deletable": false,
        "editable": false,
        "run_control": {
          "frozen": true
        },
        "tags": [
          "context"
        ],
        "id": "_UGkCjvgV9VK"
      },
      "cell_type": "markdown",
      "source": [
        "## 4. Totaling the amount of debt owed by the countries\n"
      ]
    },
    {
      "metadata": {
        "dc": {
          "key": "28"
        },
        "tags": [
          "sample_code"
        ],
        "trusted": true,
        "id": "UweV-Ik4V9VK",
        "outputId": "2d4c925b-2e6d-443a-cd51-fb08fb787bb4"
      },
      "cell_type": "code",
      "source": [
        "%%sql\n",
        "\n",
        "SELECT \n",
        "    ROUND(SUM(debt)/1000000, 2) AS total_debt\n",
        "FROM international_debt; "
      ],
      "execution_count": null,
      "outputs": [
        {
          "output_type": "stream",
          "text": " * postgresql:///international_debt\n1 rows affected.\n",
          "name": "stdout"
        },
        {
          "output_type": "execute_result",
          "execution_count": 81,
          "data": {
            "text/plain": "[(Decimal('3079734.49'),)]",
            "text/html": "<table>\n    <tr>\n        <th>total_debt</th>\n    </tr>\n    <tr>\n        <td>3079734.49</td>\n    </tr>\n</table>"
          },
          "metadata": {}
        }
      ]
    },
    {
      "metadata": {
        "dc": {
          "key": "36"
        },
        "deletable": false,
        "editable": false,
        "run_control": {
          "frozen": true
        },
        "tags": [
          "context"
        ],
        "id": "A5XAKMrGV9VL"
      },
      "cell_type": "markdown",
      "source": [
        "## 5. Country with the highest debt\n"
      ]
    },
    {
      "metadata": {
        "dc": {
          "key": "36"
        },
        "tags": [
          "sample_code"
        ],
        "trusted": true,
        "id": "PwYoM2ITV9VM",
        "outputId": "b7c595ea-e725-4979-db46-294332e94cc3"
      },
      "cell_type": "code",
      "source": [
        "%%sql\n",
        "\n",
        "SELECT country_name, SUM(debt) as total_debt\n",
        "from international_debt\n",
        "group by country_name\n",
        "order by total_debt DESC\n",
        "limit 1"
      ],
      "execution_count": null,
      "outputs": [
        {
          "output_type": "stream",
          "text": " * postgresql:///international_debt\n1 rows affected.\n",
          "name": "stdout"
        },
        {
          "output_type": "execute_result",
          "execution_count": 83,
          "data": {
            "text/plain": "[('China', Decimal('285793494734.200001568'))]",
            "text/html": "<table>\n    <tr>\n        <th>country_name</th>\n        <th>total_debt</th>\n    </tr>\n    <tr>\n        <td>China</td>\n        <td>285793494734.200001568</td>\n    </tr>\n</table>"
          },
          "metadata": {}
        }
      ]
    },
    {
      "metadata": {
        "dc": {
          "key": "44"
        },
        "deletable": false,
        "editable": false,
        "run_control": {
          "frozen": true
        },
        "tags": [
          "context"
        ],
        "id": "f1GrY18jV9VM"
      },
      "cell_type": "markdown",
      "source": [
        "## 6. Average amount of debt across indicators"
      ]
    },
    {
      "metadata": {
        "dc": {
          "key": "44"
        },
        "tags": [
          "sample_code"
        ],
        "trusted": true,
        "id": "3obiunrOV9VN",
        "outputId": "71ea60fb-6303-435e-e42d-6b9153124212"
      },
      "cell_type": "code",
      "source": [
        "%%sql\n",
        "\n",
        "SELECT indicator_code as debt_indicator, \n",
        "indicator_name,\n",
        "AVG(debt) as average_debt\n",
        "from international_debt\n",
        "group by debt_indicator, indicator_name\n",
        "order by average_debt DESC\n",
        "LIMIT 10"
      ],
      "execution_count": null,
      "outputs": [
        {
          "output_type": "stream",
          "text": " * postgresql:///international_debt\n10 rows affected.\n",
          "name": "stdout"
        },
        {
          "output_type": "execute_result",
          "execution_count": 85,
          "data": {
            "text/plain": "[('DT.AMT.DLXF.CD', 'Principal repayments on external debt, long-term (AMT, current US$)', Decimal('5904868401.499193612')),\n ('DT.AMT.DPNG.CD', 'Principal repayments on external debt, private nonguaranteed (PNG) (AMT, current US$)', Decimal('5161194333.812658349')),\n ('DT.DIS.DLXF.CD', 'Disbursements on external debt, long-term (DIS, current US$)', Decimal('2152041216.890243888')),\n ('DT.DIS.OFFT.CD', 'PPG, official creditors (DIS, current US$)', Decimal('1958983452.859836046')),\n ('DT.AMT.PRVT.CD', 'PPG, private creditors (AMT, current US$)', Decimal('1803694101.963265321')),\n ('DT.INT.DLXF.CD', 'Interest payments on external debt, long-term (INT, current US$)', Decimal('1644024067.650806481')),\n ('DT.DIS.BLAT.CD', 'PPG, bilateral (DIS, current US$)', Decimal('1223139290.398230108')),\n ('DT.INT.DPNG.CD', 'Interest payments on external debt, private nonguaranteed (PNG) (INT, current US$)', Decimal('1220410844.421518983')),\n ('DT.AMT.OFFT.CD', 'PPG, official creditors (AMT, current US$)', Decimal('1191187963.083064523')),\n ('DT.AMT.PBND.CD', 'PPG, bonds (AMT, current US$)', Decimal('1082623947.653623188'))]",
            "text/html": "<table>\n    <tr>\n        <th>debt_indicator</th>\n        <th>indicator_name</th>\n        <th>average_debt</th>\n    </tr>\n    <tr>\n        <td>DT.AMT.DLXF.CD</td>\n        <td>Principal repayments on external debt, long-term (AMT, current US$)</td>\n        <td>5904868401.499193612</td>\n    </tr>\n    <tr>\n        <td>DT.AMT.DPNG.CD</td>\n        <td>Principal repayments on external debt, private nonguaranteed (PNG) (AMT, current US$)</td>\n        <td>5161194333.812658349</td>\n    </tr>\n    <tr>\n        <td>DT.DIS.DLXF.CD</td>\n        <td>Disbursements on external debt, long-term (DIS, current US$)</td>\n        <td>2152041216.890243888</td>\n    </tr>\n    <tr>\n        <td>DT.DIS.OFFT.CD</td>\n        <td>PPG, official creditors (DIS, current US$)</td>\n        <td>1958983452.859836046</td>\n    </tr>\n    <tr>\n        <td>DT.AMT.PRVT.CD</td>\n        <td>PPG, private creditors (AMT, current US$)</td>\n        <td>1803694101.963265321</td>\n    </tr>\n    <tr>\n        <td>DT.INT.DLXF.CD</td>\n        <td>Interest payments on external debt, long-term (INT, current US$)</td>\n        <td>1644024067.650806481</td>\n    </tr>\n    <tr>\n        <td>DT.DIS.BLAT.CD</td>\n        <td>PPG, bilateral (DIS, current US$)</td>\n        <td>1223139290.398230108</td>\n    </tr>\n    <tr>\n        <td>DT.INT.DPNG.CD</td>\n        <td>Interest payments on external debt, private nonguaranteed (PNG) (INT, current US$)</td>\n        <td>1220410844.421518983</td>\n    </tr>\n    <tr>\n        <td>DT.AMT.OFFT.CD</td>\n        <td>PPG, official creditors (AMT, current US$)</td>\n        <td>1191187963.083064523</td>\n    </tr>\n    <tr>\n        <td>DT.AMT.PBND.CD</td>\n        <td>PPG, bonds (AMT, current US$)</td>\n        <td>1082623947.653623188</td>\n    </tr>\n</table>"
          },
          "metadata": {}
        }
      ]
    },
    {
      "metadata": {
        "dc": {
          "key": "52"
        },
        "deletable": false,
        "editable": false,
        "run_control": {
          "frozen": true
        },
        "tags": [
          "context"
        ],
        "id": "DkLOB1VdV9VO"
      },
      "cell_type": "markdown",
      "source": [
        "## 7. The highest amount of principal repayments"
      ]
    },
    {
      "metadata": {
        "dc": {
          "key": "52"
        },
        "tags": [
          "sample_code"
        ],
        "trusted": true,
        "id": "0FW0n6ECV9VO",
        "outputId": "d1c35390-7910-41ca-b13a-fa7a46274024"
      },
      "cell_type": "code",
      "source": [
        "%%sql\n",
        "\n",
        "SELECT country_name, indicator_name\n",
        "from international_debt\n",
        "WHERE debt = (select MAX(debt) from international_debt\n",
        "              where indicator_code = 'DT.AMT.DLXF.CD')"
      ],
      "execution_count": null,
      "outputs": [
        {
          "output_type": "stream",
          "text": " * postgresql:///international_debt\n1 rows affected.\n",
          "name": "stdout"
        },
        {
          "output_type": "execute_result",
          "execution_count": 87,
          "data": {
            "text/plain": "[('China', 'Principal repayments on external debt, long-term (AMT, current US$)')]",
            "text/html": "<table>\n    <tr>\n        <th>country_name</th>\n        <th>indicator_name</th>\n    </tr>\n    <tr>\n        <td>China</td>\n        <td>Principal repayments on external debt, long-term (AMT, current US$)</td>\n    </tr>\n</table>"
          },
          "metadata": {}
        }
      ]
    },
    {
      "metadata": {
        "dc": {
          "key": "60"
        },
        "deletable": false,
        "editable": false,
        "run_control": {
          "frozen": true
        },
        "tags": [
          "context"
        ],
        "id": "wRpRyu_YV9VP"
      },
      "cell_type": "markdown",
      "source": [
        "## 8. The most common debt indicator"
      ]
    },
    {
      "metadata": {
        "dc": {
          "key": "60"
        },
        "tags": [
          "sample_code"
        ],
        "trusted": true,
        "id": "8uNkz13gV9VP",
        "outputId": "73751e7e-549c-4ee9-ac3a-97ef7945b04b"
      },
      "cell_type": "code",
      "source": [
        "%%sql\n",
        "\n",
        "SELECT indicator_code, COUNT(indicator_code) as indicator_count\n",
        "from international_debt\n",
        "group by indicator_code\n",
        "order by indicator_count DESC, indicator_code DESC\n",
        "LIMIT 20\n"
      ],
      "execution_count": null,
      "outputs": [
        {
          "output_type": "stream",
          "text": " * postgresql:///international_debt\n20 rows affected.\n",
          "name": "stdout"
        },
        {
          "output_type": "execute_result",
          "execution_count": 89,
          "data": {
            "text/plain": "[('DT.INT.OFFT.CD', 124),\n ('DT.INT.MLAT.CD', 124),\n ('DT.INT.DLXF.CD', 124),\n ('DT.AMT.OFFT.CD', 124),\n ('DT.AMT.MLAT.CD', 124),\n ('DT.AMT.DLXF.CD', 124),\n ('DT.DIS.DLXF.CD', 123),\n ('DT.INT.BLAT.CD', 122),\n ('DT.DIS.OFFT.CD', 122),\n ('DT.AMT.BLAT.CD', 122),\n ('DT.DIS.MLAT.CD', 120),\n ('DT.DIS.BLAT.CD', 113),\n ('DT.INT.PRVT.CD', 98),\n ('DT.AMT.PRVT.CD', 98),\n ('DT.INT.PCBK.CD', 84),\n ('DT.AMT.PCBK.CD', 84),\n ('DT.INT.DPNG.CD', 79),\n ('DT.AMT.DPNG.CD', 79),\n ('DT.INT.PBND.CD', 69),\n ('DT.AMT.PBND.CD', 69)]",
            "text/html": "<table>\n    <tr>\n        <th>indicator_code</th>\n        <th>indicator_count</th>\n    </tr>\n    <tr>\n        <td>DT.INT.OFFT.CD</td>\n        <td>124</td>\n    </tr>\n    <tr>\n        <td>DT.INT.MLAT.CD</td>\n        <td>124</td>\n    </tr>\n    <tr>\n        <td>DT.INT.DLXF.CD</td>\n        <td>124</td>\n    </tr>\n    <tr>\n        <td>DT.AMT.OFFT.CD</td>\n        <td>124</td>\n    </tr>\n    <tr>\n        <td>DT.AMT.MLAT.CD</td>\n        <td>124</td>\n    </tr>\n    <tr>\n        <td>DT.AMT.DLXF.CD</td>\n        <td>124</td>\n    </tr>\n    <tr>\n        <td>DT.DIS.DLXF.CD</td>\n        <td>123</td>\n    </tr>\n    <tr>\n        <td>DT.INT.BLAT.CD</td>\n        <td>122</td>\n    </tr>\n    <tr>\n        <td>DT.DIS.OFFT.CD</td>\n        <td>122</td>\n    </tr>\n    <tr>\n        <td>DT.AMT.BLAT.CD</td>\n        <td>122</td>\n    </tr>\n    <tr>\n        <td>DT.DIS.MLAT.CD</td>\n        <td>120</td>\n    </tr>\n    <tr>\n        <td>DT.DIS.BLAT.CD</td>\n        <td>113</td>\n    </tr>\n    <tr>\n        <td>DT.INT.PRVT.CD</td>\n        <td>98</td>\n    </tr>\n    <tr>\n        <td>DT.AMT.PRVT.CD</td>\n        <td>98</td>\n    </tr>\n    <tr>\n        <td>DT.INT.PCBK.CD</td>\n        <td>84</td>\n    </tr>\n    <tr>\n        <td>DT.AMT.PCBK.CD</td>\n        <td>84</td>\n    </tr>\n    <tr>\n        <td>DT.INT.DPNG.CD</td>\n        <td>79</td>\n    </tr>\n    <tr>\n        <td>DT.AMT.DPNG.CD</td>\n        <td>79</td>\n    </tr>\n    <tr>\n        <td>DT.INT.PBND.CD</td>\n        <td>69</td>\n    </tr>\n    <tr>\n        <td>DT.AMT.PBND.CD</td>\n        <td>69</td>\n    </tr>\n</table>"
          },
          "metadata": {}
        }
      ]
    },
    {
      "metadata": {
        "dc": {
          "key": "68"
        },
        "deletable": false,
        "editable": false,
        "run_control": {
          "frozen": true
        },
        "tags": [
          "context"
        ],
        "id": "WZ22e3uQV9VP"
      },
      "cell_type": "markdown",
      "source": [
        "## 9. Other viable debt issues"
      ]
    },
    {
      "metadata": {
        "dc": {
          "key": "68"
        },
        "tags": [
          "sample_code"
        ],
        "trusted": true,
        "id": "OidB2SErV9VQ",
        "outputId": "93229431-5ff2-4392-a686-ac383b6c813e"
      },
      "cell_type": "code",
      "source": [
        "%%sql\n",
        "\n",
        "SELECT country_name, MAX(debt) as maximum_debt\n",
        "from international_debt\n",
        "group by country_name\n",
        "order by maximum_debt DESC\n",
        "LIMIT 10\n"
      ],
      "execution_count": null,
      "outputs": [
        {
          "output_type": "stream",
          "text": " * postgresql:///international_debt\n10 rows affected.\n",
          "name": "stdout"
        },
        {
          "output_type": "execute_result",
          "execution_count": 91,
          "data": {
            "text/plain": "[('China', Decimal('96218620835.699996948')),\n ('Brazil', Decimal('90041840304.100006104')),\n ('Russian Federation', Decimal('66589761833.5')),\n ('Turkey', Decimal('51555031005.800003052')),\n ('South Asia', Decimal('48756295898.199996948')),\n ('Least developed countries: UN classification', Decimal('40160766261.599998474')),\n ('IDA only', Decimal('34531188113.199996948')),\n ('India', Decimal('31923507000.799999237')),\n ('Indonesia', Decimal('30916112653.799999237')),\n ('Kazakhstan', Decimal('27482093686.400001526'))]",
            "text/html": "<table>\n    <tr>\n        <th>country_name</th>\n        <th>maximum_debt</th>\n    </tr>\n    <tr>\n        <td>China</td>\n        <td>96218620835.699996948</td>\n    </tr>\n    <tr>\n        <td>Brazil</td>\n        <td>90041840304.100006104</td>\n    </tr>\n    <tr>\n        <td>Russian Federation</td>\n        <td>66589761833.5</td>\n    </tr>\n    <tr>\n        <td>Turkey</td>\n        <td>51555031005.800003052</td>\n    </tr>\n    <tr>\n        <td>South Asia</td>\n        <td>48756295898.199996948</td>\n    </tr>\n    <tr>\n        <td>Least developed countries: UN classification</td>\n        <td>40160766261.599998474</td>\n    </tr>\n    <tr>\n        <td>IDA only</td>\n        <td>34531188113.199996948</td>\n    </tr>\n    <tr>\n        <td>India</td>\n        <td>31923507000.799999237</td>\n    </tr>\n    <tr>\n        <td>Indonesia</td>\n        <td>30916112653.799999237</td>\n    </tr>\n    <tr>\n        <td>Kazakhstan</td>\n        <td>27482093686.400001526</td>\n    </tr>\n</table>"
          },
          "metadata": {}
        }
      ]
    }
  ],
  "metadata": {
    "kernelspec": {
      "name": "python3",
      "display_name": "Python 3",
      "language": "python"
    },
    "language_info": {
      "name": "python",
      "version": "3.6.7",
      "mimetype": "text/x-python",
      "codemirror_mode": {
        "name": "ipython",
        "version": 3
      },
      "pygments_lexer": "ipython3",
      "nbconvert_exporter": "python",
      "file_extension": ".py"
    },
    "colab": {
      "name": "notebook-sql.ipynb",
      "provenance": [],
      "include_colab_link": true
    }
  },
  "nbformat": 4,
  "nbformat_minor": 0
}