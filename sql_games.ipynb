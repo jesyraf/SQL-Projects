{
  "cells": [
    {
      "cell_type": "markdown",
      "metadata": {
        "id": "view-in-github",
        "colab_type": "text"
      },
      "source": [
        "<a href=\"https://colab.research.google.com/github/jesyraf/SQL-projects/blob/main/sql_games.ipynb\" target=\"_parent\"><img src=\"https://colab.research.google.com/assets/colab-badge.svg\" alt=\"Open In Colab\"/></a>"
      ]
    },
    {
      "metadata": {
        "dc": {
          "key": "7"
        },
        "deletable": false,
        "editable": false,
        "run_control": {
          "frozen": true
        },
        "tags": [
          "context"
        ],
        "id": "JsLKhJkKY80T"
      },
      "cell_type": "markdown",
      "source": [
        "## 1. Ten best-selling video games\n",
        "<p>Database contains two tables. Each table has 400 rows. Complete dataset on <a href=\"https://www.kaggle.com/holmjason2/videogamedata\">Kaggle</a>. </p>\n",
        "<h3 id=\"game_sales\"><code>game_sales</code></h3>\n",
        "<table>\n",
        "<thead>\n",
        "<tr>\n",
        "<th style=\"text-align:left;\">column</th>\n",
        "<th>type</th>\n",
        "<th>meaning</th>\n",
        "</tr>\n",
        "</thead>\n",
        "<tbody>\n",
        "<tr>\n",
        "<td style=\"text-align:left;\"><code>game</code></td>\n",
        "<td>varchar</td>\n",
        "<td>Name of the video game</td>\n",
        "</tr>\n",
        "<tr>\n",
        "<td style=\"text-align:left;\"><code>platform</code></td>\n",
        "<td>varchar</td>\n",
        "<td>Gaming platform</td>\n",
        "</tr>\n",
        "<tr>\n",
        "<td style=\"text-align:left;\"><code>publisher</code></td>\n",
        "<td>varchar</td>\n",
        "<td>Game publisher</td>\n",
        "</tr>\n",
        "<tr>\n",
        "<td style=\"text-align:left;\"><code>developer</code></td>\n",
        "<td>varchar</td>\n",
        "<td>Game developer</td>\n",
        "</tr>\n",
        "<tr>\n",
        "<td style=\"text-align:left;\"><code>games_sold</code></td>\n",
        "<td>float</td>\n",
        "<td>Number of copies sold (millions)</td>\n",
        "</tr>\n",
        "<tr>\n",
        "<td style=\"text-align:left;\"><code>year</code></td>\n",
        "<td>int</td>\n",
        "<td>Release year</td>\n",
        "</tr>\n",
        "</tbody>\n",
        "</table>\n",
        "<h3 id=\"reviews\"><code>reviews</code></h3>\n",
        "<table>\n",
        "<thead>\n",
        "<tr>\n",
        "<th style=\"text-align:left;\">column</th>\n",
        "<th>type</th>\n",
        "<th>meaning</th>\n",
        "</tr>\n",
        "</thead>\n",
        "<tbody>\n",
        "<tr>\n",
        "<td style=\"text-align:left;\"><code>game</code></td>\n",
        "<td>varchar</td>\n",
        "<td>Name of the video game</td>\n",
        "</tr>\n",
        "<tr>\n",
        "<td style=\"text-align:left;\"><code>critic_score</code></td>\n",
        "<td>float</td>\n",
        "<td>Critic score according to Metacritic</td>\n",
        "</tr>\n",
        "<tr>\n",
        "<td style=\"text-align:left;\"><code>user_score</code></td>\n",
        "<td>float</td>\n",
        "<td>User score according to Metacritic</td>\n",
        "</tr>\n",
        "</tbody>\n",
        "</table>"
      ]
    },
    {
      "metadata": {
        "dc": {
          "key": "7"
        },
        "tags": [
          "sample_code"
        ],
        "trusted": true,
        "id": "w8Jv4p6vY80V",
        "outputId": "401bb06e-20dc-4ab4-b413-8780677252ff"
      },
      "cell_type": "code",
      "source": [
        "%%sql\n",
        "postgresql:///games\n",
        "\n",
        "SELECT *\n",
        "from game_sales\n",
        "order by games_sold DESC\n",
        "LIMIT 10"
      ],
      "execution_count": null,
      "outputs": [
        {
          "output_type": "stream",
          "text": "10 rows affected.\n",
          "name": "stdout"
        },
        {
          "output_type": "execute_result",
          "execution_count": 2,
          "data": {
            "text/plain": "[('Wii Sports for Wii', 'Wii', 'Nintendo', 'Nintendo EAD', Decimal('82.90'), 2006),\n ('Super Mario Bros. for NES', 'NES', 'Nintendo', 'Nintendo EAD', Decimal('40.24'), 1985),\n ('Counter-Strike: Global Offensive for PC', 'PC', 'Valve', 'Valve Corporation', Decimal('40.00'), 2012),\n ('Mario Kart Wii for Wii', 'Wii', 'Nintendo', 'Nintendo EAD', Decimal('37.32'), 2008),\n (\"PLAYERUNKNOWN'S BATTLEGROUNDS for PC\", 'PC', 'PUBG Corporation', 'PUBG Corporation', Decimal('36.60'), 2017),\n ('Minecraft for PC', 'PC', 'Mojang', 'Mojang AB', Decimal('33.15'), 2010),\n ('Wii Sports Resort for Wii', 'Wii', 'Nintendo', 'Nintendo EAD', Decimal('33.13'), 2009),\n ('Pokemon Red / Green / Blue Version for GB', 'GB', 'Nintendo', 'Game Freak', Decimal('31.38'), 1998),\n ('New Super Mario Bros. for DS', 'DS', 'Nintendo', 'Nintendo EAD', Decimal('30.80'), 2006),\n ('New Super Mario Bros. Wii for Wii', 'Wii', 'Nintendo', 'Nintendo EAD', Decimal('30.30'), 2009)]",
            "text/html": "<table>\n    <thead>\n        <tr>\n            <th>game</th>\n            <th>platform</th>\n            <th>publisher</th>\n            <th>developer</th>\n            <th>games_sold</th>\n            <th>year</th>\n        </tr>\n    </thead>\n    <tbody>\n        <tr>\n            <td>Wii Sports for Wii</td>\n            <td>Wii</td>\n            <td>Nintendo</td>\n            <td>Nintendo EAD</td>\n            <td>82.90</td>\n            <td>2006</td>\n        </tr>\n        <tr>\n            <td>Super Mario Bros. for NES</td>\n            <td>NES</td>\n            <td>Nintendo</td>\n            <td>Nintendo EAD</td>\n            <td>40.24</td>\n            <td>1985</td>\n        </tr>\n        <tr>\n            <td>Counter-Strike: Global Offensive for PC</td>\n            <td>PC</td>\n            <td>Valve</td>\n            <td>Valve Corporation</td>\n            <td>40.00</td>\n            <td>2012</td>\n        </tr>\n        <tr>\n            <td>Mario Kart Wii for Wii</td>\n            <td>Wii</td>\n            <td>Nintendo</td>\n            <td>Nintendo EAD</td>\n            <td>37.32</td>\n            <td>2008</td>\n        </tr>\n        <tr>\n            <td>PLAYERUNKNOWN&#x27;S BATTLEGROUNDS for PC</td>\n            <td>PC</td>\n            <td>PUBG Corporation</td>\n            <td>PUBG Corporation</td>\n            <td>36.60</td>\n            <td>2017</td>\n        </tr>\n        <tr>\n            <td>Minecraft for PC</td>\n            <td>PC</td>\n            <td>Mojang</td>\n            <td>Mojang AB</td>\n            <td>33.15</td>\n            <td>2010</td>\n        </tr>\n        <tr>\n            <td>Wii Sports Resort for Wii</td>\n            <td>Wii</td>\n            <td>Nintendo</td>\n            <td>Nintendo EAD</td>\n            <td>33.13</td>\n            <td>2009</td>\n        </tr>\n        <tr>\n            <td>Pokemon Red / Green / Blue Version for GB</td>\n            <td>GB</td>\n            <td>Nintendo</td>\n            <td>Game Freak</td>\n            <td>31.38</td>\n            <td>1998</td>\n        </tr>\n        <tr>\n            <td>New Super Mario Bros. for DS</td>\n            <td>DS</td>\n            <td>Nintendo</td>\n            <td>Nintendo EAD</td>\n            <td>30.80</td>\n            <td>2006</td>\n        </tr>\n        <tr>\n            <td>New Super Mario Bros. Wii for Wii</td>\n            <td>Wii</td>\n            <td>Nintendo</td>\n            <td>Nintendo EAD</td>\n            <td>30.30</td>\n            <td>2009</td>\n        </tr>\n    </tbody>\n</table>"
          },
          "metadata": {}
        }
      ]
    },
    {
      "metadata": {
        "dc": {
          "key": "14"
        },
        "deletable": false,
        "editable": false,
        "run_control": {
          "frozen": true
        },
        "tags": [
          "context"
        ],
        "id": "yZVoIg2-Y80X"
      },
      "cell_type": "markdown",
      "source": [
        "## 2. Review scores"
      ]
    },
    {
      "metadata": {
        "dc": {
          "key": "14"
        },
        "tags": [
          "sample_code"
        ],
        "trusted": true,
        "id": "a-rKijiyY80Y",
        "outputId": "0b522e64-fd94-431c-a7c9-c969d2b49441"
      },
      "cell_type": "code",
      "source": [
        "%%sql \n",
        "\n",
        "SELECT COUNT(g.game)\n",
        "from game_sales as g\n",
        "left join reviews as r\n",
        "on g.game = r.game\n",
        "WHERE critic_score IS NULL AND user_score IS NULL;"
      ],
      "execution_count": null,
      "outputs": [
        {
          "output_type": "stream",
          "text": " * postgresql:///games\n1 rows affected.\n",
          "name": "stdout"
        },
        {
          "output_type": "execute_result",
          "execution_count": 4,
          "data": {
            "text/plain": "[(31,)]",
            "text/html": "<table>\n    <thead>\n        <tr>\n            <th>count</th>\n        </tr>\n    </thead>\n    <tbody>\n        <tr>\n            <td>31</td>\n        </tr>\n    </tbody>\n</table>"
          },
          "metadata": {}
        }
      ]
    },
    {
      "metadata": {
        "dc": {
          "key": "21"
        },
        "deletable": false,
        "editable": false,
        "run_control": {
          "frozen": true
        },
        "tags": [
          "context"
        ],
        "id": "AaZTEm4wY80Z"
      },
      "cell_type": "markdown",
      "source": [
        "## 3. Best years\n"
      ]
    },
    {
      "metadata": {
        "dc": {
          "key": "21"
        },
        "tags": [
          "sample_code"
        ],
        "trusted": true,
        "id": "XEGMxgxlY80a",
        "outputId": "4ad2dcef-9b86-48a7-c8fe-6ea454b00d10"
      },
      "cell_type": "code",
      "source": [
        "%%sql\n",
        "\n",
        "SELECT g.year, ROUND(AVG(r.critic_score), 2) as avg_critic_score\n",
        "from game_sales as g\n",
        "join reviews as r\n",
        "on g.game = r.game\n",
        "group by g.year\n",
        "order by avg_critic_score DESC\n",
        "LIMIT 10"
      ],
      "execution_count": null,
      "outputs": [
        {
          "output_type": "stream",
          "text": " * postgresql:///games\n10 rows affected.\n",
          "name": "stdout"
        },
        {
          "output_type": "execute_result",
          "execution_count": 6,
          "data": {
            "text/plain": "[(1990, Decimal('9.80')),\n (1992, Decimal('9.67')),\n (1998, Decimal('9.32')),\n (2020, Decimal('9.20')),\n (1993, Decimal('9.10')),\n (1995, Decimal('9.07')),\n (2004, Decimal('9.03')),\n (1982, Decimal('9.00')),\n (2002, Decimal('8.99')),\n (1999, Decimal('8.93'))]",
            "text/html": "<table>\n    <thead>\n        <tr>\n            <th>year</th>\n            <th>avg_critic_score</th>\n        </tr>\n    </thead>\n    <tbody>\n        <tr>\n            <td>1990</td>\n            <td>9.80</td>\n        </tr>\n        <tr>\n            <td>1992</td>\n            <td>9.67</td>\n        </tr>\n        <tr>\n            <td>1998</td>\n            <td>9.32</td>\n        </tr>\n        <tr>\n            <td>2020</td>\n            <td>9.20</td>\n        </tr>\n        <tr>\n            <td>1993</td>\n            <td>9.10</td>\n        </tr>\n        <tr>\n            <td>1995</td>\n            <td>9.07</td>\n        </tr>\n        <tr>\n            <td>2004</td>\n            <td>9.03</td>\n        </tr>\n        <tr>\n            <td>1982</td>\n            <td>9.00</td>\n        </tr>\n        <tr>\n            <td>2002</td>\n            <td>8.99</td>\n        </tr>\n        <tr>\n            <td>1999</td>\n            <td>8.93</td>\n        </tr>\n    </tbody>\n</table>"
          },
          "metadata": {}
        }
      ]
    },
    {
      "metadata": {
        "dc": {
          "key": "28"
        },
        "deletable": false,
        "editable": false,
        "run_control": {
          "frozen": true
        },
        "tags": [
          "context"
        ],
        "id": "m72YJsuTY80b"
      },
      "cell_type": "markdown",
      "source": [
        "## 4. Year 1982\n"
      ]
    },
    {
      "metadata": {
        "dc": {
          "key": "28"
        },
        "tags": [
          "sample_code"
        ],
        "trusted": true,
        "id": "h8PRuNTLY80b",
        "outputId": "23275318-ca62-46c2-85cb-fbf224ab7fd5"
      },
      "cell_type": "code",
      "source": [
        "%%sql \n",
        "\n",
        "SELECT g.year, ROUND(AVG(r.critic_score), 2) as avg_critic_score, COUNT(g.game) as num_games\n",
        "from game_sales as g\n",
        "join reviews as r\n",
        "on g.game = r.game\n",
        "group by g.year\n",
        "having COUNT(g.game) > 4\n",
        "order by avg_critic_score DESC\n",
        "LIMIT 10"
      ],
      "execution_count": null,
      "outputs": [
        {
          "output_type": "stream",
          "text": " * postgresql:///games\n10 rows affected.\n",
          "name": "stdout"
        },
        {
          "output_type": "execute_result",
          "execution_count": 8,
          "data": {
            "text/plain": "[(1998, Decimal('9.32'), 10),\n (2004, Decimal('9.03'), 11),\n (2002, Decimal('8.99'), 9),\n (1999, Decimal('8.93'), 11),\n (2001, Decimal('8.82'), 13),\n (2011, Decimal('8.76'), 26),\n (2016, Decimal('8.67'), 13),\n (2013, Decimal('8.66'), 18),\n (2008, Decimal('8.63'), 20),\n (2012, Decimal('8.62'), 12)]",
            "text/html": "<table>\n    <thead>\n        <tr>\n            <th>year</th>\n            <th>avg_critic_score</th>\n            <th>num_games</th>\n        </tr>\n    </thead>\n    <tbody>\n        <tr>\n            <td>1998</td>\n            <td>9.32</td>\n            <td>10</td>\n        </tr>\n        <tr>\n            <td>2004</td>\n            <td>9.03</td>\n            <td>11</td>\n        </tr>\n        <tr>\n            <td>2002</td>\n            <td>8.99</td>\n            <td>9</td>\n        </tr>\n        <tr>\n            <td>1999</td>\n            <td>8.93</td>\n            <td>11</td>\n        </tr>\n        <tr>\n            <td>2001</td>\n            <td>8.82</td>\n            <td>13</td>\n        </tr>\n        <tr>\n            <td>2011</td>\n            <td>8.76</td>\n            <td>26</td>\n        </tr>\n        <tr>\n            <td>2016</td>\n            <td>8.67</td>\n            <td>13</td>\n        </tr>\n        <tr>\n            <td>2013</td>\n            <td>8.66</td>\n            <td>18</td>\n        </tr>\n        <tr>\n            <td>2008</td>\n            <td>8.63</td>\n            <td>20</td>\n        </tr>\n        <tr>\n            <td>2012</td>\n            <td>8.62</td>\n            <td>12</td>\n        </tr>\n    </tbody>\n</table>"
          },
          "metadata": {}
        }
      ]
    },
    {
      "metadata": {
        "dc": {
          "key": "35"
        },
        "deletable": false,
        "editable": false,
        "run_control": {
          "frozen": true
        },
        "tags": [
          "context"
        ],
        "id": "i8KgiWTIY80c"
      },
      "cell_type": "markdown",
      "source": [
        "## 5. Best critics' years\n",
        "\n",
        "<h3 id=\"top_critic_years\"><code>top_critic_years</code></h3>\n",
        "<table>\n",
        "<thead>\n",
        "<tr>\n",
        "<th style=\"text-align:left;\">column</th>\n",
        "<th>type</th>\n",
        "<th>meaning</th>\n",
        "</tr>\n",
        "</thead>\n",
        "<tbody>\n",
        "<tr>\n",
        "<td style=\"text-align:left;\"><code>year</code></td>\n",
        "<td>int</td>\n",
        "<td>Year of video game release</td>\n",
        "</tr>\n",
        "<tr>\n",
        "<td style=\"text-align:left;\"><code>avg_critic_score</code></td>\n",
        "<td>float</td>\n",
        "<td>Average of all critic scores for games released in that year</td>\n",
        "</tr>\n",
        "</tbody>\n",
        "</table>\n",
        "<h3 id=\"top_critic_years_more_than_four_games\"><code>top_critic_years_more_than_four_games</code></h3>\n",
        "<table>\n",
        "<thead>\n",
        "<tr>\n",
        "<th style=\"text-align:left;\">column</th>\n",
        "<th>type</th>\n",
        "<th>meaning</th>\n",
        "</tr>\n",
        "</thead>\n",
        "<tbody>\n",
        "<tr>\n",
        "<td style=\"text-align:left;\"><code>year</code></td>\n",
        "<td>int</td>\n",
        "<td>Year of video game release</td>\n",
        "</tr>\n",
        "<tr>\n",
        "<td style=\"text-align:left;\"><code>num_games</code></td>\n",
        "<td>int</td>\n",
        "<td>Count of the number of video games released in that year</td>\n",
        "</tr>\n",
        "<tr>\n",
        "<td style=\"text-align:left;\"><code>avg_critic_score</code></td>\n",
        "<td>float</td>\n",
        "<td>Average of all critic scores for games released in that year</td>\n",
        "</tr>\n",
        "</tbody>\n",
        "</table>"
      ]
    },
    {
      "metadata": {
        "dc": {
          "key": "35"
        },
        "tags": [
          "sample_code"
        ],
        "trusted": true,
        "id": "s5gmy5A-Y80c",
        "outputId": "40ca7581-21d3-424f-c629-8d327aad4bcb"
      },
      "cell_type": "code",
      "source": [
        "%%sql \n",
        "\n",
        "SELECT year, avg_critic_score\n",
        "from top_critic_years\n",
        "EXCEPT\n",
        "select year, avg_critic_score\n",
        "from top_critic_years_more_than_four_games\n",
        "order by avg_critic_score DESC"
      ],
      "execution_count": null,
      "outputs": [
        {
          "output_type": "stream",
          "text": " * postgresql:///games\n6 rows affected.\n",
          "name": "stdout"
        },
        {
          "output_type": "execute_result",
          "execution_count": 10,
          "data": {
            "text/plain": "[(1990, Decimal('9.80')),\n (1992, Decimal('9.67')),\n (2020, Decimal('9.20')),\n (1993, Decimal('9.10')),\n (1995, Decimal('9.07')),\n (1982, Decimal('9.00'))]",
            "text/html": "<table>\n    <thead>\n        <tr>\n            <th>year</th>\n            <th>avg_critic_score</th>\n        </tr>\n    </thead>\n    <tbody>\n        <tr>\n            <td>1990</td>\n            <td>9.80</td>\n        </tr>\n        <tr>\n            <td>1992</td>\n            <td>9.67</td>\n        </tr>\n        <tr>\n            <td>2020</td>\n            <td>9.20</td>\n        </tr>\n        <tr>\n            <td>1993</td>\n            <td>9.10</td>\n        </tr>\n        <tr>\n            <td>1995</td>\n            <td>9.07</td>\n        </tr>\n        <tr>\n            <td>1982</td>\n            <td>9.00</td>\n        </tr>\n    </tbody>\n</table>"
          },
          "metadata": {}
        }
      ]
    },
    {
      "metadata": {
        "dc": {
          "key": "42"
        },
        "deletable": false,
        "editable": false,
        "run_control": {
          "frozen": true
        },
        "tags": [
          "context"
        ],
        "id": "k_ibe4zeY80d"
      },
      "cell_type": "markdown",
      "source": [
        "## 6. Best players years"
      ]
    },
    {
      "metadata": {
        "dc": {
          "key": "42"
        },
        "tags": [
          "sample_code"
        ],
        "trusted": true,
        "id": "5hHfnvNXY80d",
        "outputId": "f84edbf5-d178-4b48-c01c-ee87c8c6164f"
      },
      "cell_type": "code",
      "source": [
        "%%sql \n",
        "\n",
        "SELECT g.year, ROUND(AVG(r.user_score), 2) as avg_user_score, COUNT(g.game) as num_games\n",
        "from game_sales as g\n",
        "join reviews as r\n",
        "on g.game = r.game\n",
        "group by g.year\n",
        "having COUNT(g.game) > 4\n",
        "order by avg_user_score DESC\n",
        "LIMIT 10"
      ],
      "execution_count": null,
      "outputs": [
        {
          "output_type": "stream",
          "text": " * postgresql:///games\n10 rows affected.\n",
          "name": "stdout"
        },
        {
          "output_type": "execute_result",
          "execution_count": 12,
          "data": {
            "text/plain": "[(1997, Decimal('9.50'), 8),\n (1998, Decimal('9.40'), 10),\n (2010, Decimal('9.24'), 23),\n (2009, Decimal('9.18'), 20),\n (2008, Decimal('9.03'), 20),\n (1996, Decimal('9.00'), 5),\n (2005, Decimal('8.95'), 13),\n (2006, Decimal('8.95'), 16),\n (2000, Decimal('8.80'), 8),\n (1999, Decimal('8.80'), 11)]",
            "text/html": "<table>\n    <thead>\n        <tr>\n            <th>year</th>\n            <th>avg_user_score</th>\n            <th>num_games</th>\n        </tr>\n    </thead>\n    <tbody>\n        <tr>\n            <td>1997</td>\n            <td>9.50</td>\n            <td>8</td>\n        </tr>\n        <tr>\n            <td>1998</td>\n            <td>9.40</td>\n            <td>10</td>\n        </tr>\n        <tr>\n            <td>2010</td>\n            <td>9.24</td>\n            <td>23</td>\n        </tr>\n        <tr>\n            <td>2009</td>\n            <td>9.18</td>\n            <td>20</td>\n        </tr>\n        <tr>\n            <td>2008</td>\n            <td>9.03</td>\n            <td>20</td>\n        </tr>\n        <tr>\n            <td>1996</td>\n            <td>9.00</td>\n            <td>5</td>\n        </tr>\n        <tr>\n            <td>2005</td>\n            <td>8.95</td>\n            <td>13</td>\n        </tr>\n        <tr>\n            <td>2006</td>\n            <td>8.95</td>\n            <td>16</td>\n        </tr>\n        <tr>\n            <td>2000</td>\n            <td>8.80</td>\n            <td>8</td>\n        </tr>\n        <tr>\n            <td>1999</td>\n            <td>8.80</td>\n            <td>11</td>\n        </tr>\n    </tbody>\n</table>"
          },
          "metadata": {}
        }
      ]
    },
    {
      "metadata": {
        "dc": {
          "key": "49"
        },
        "deletable": false,
        "editable": false,
        "run_control": {
          "frozen": true
        },
        "tags": [
          "context"
        ],
        "id": "roeHUpCwY80e"
      },
      "cell_type": "markdown",
      "source": [
        "## 7. Best years\n",
        "<h3 id=\"top_critic_years_more_than_four_games\"><code>top_critic_years_more_than_four_games</code></h3>\n",
        "<table>\n",
        "<thead>\n",
        "<tr>\n",
        "<th style=\"text-align:left;\">column</th>\n",
        "<th>type</th>\n",
        "<th>meaning</th>\n",
        "</tr>\n",
        "</thead>\n",
        "<tbody>\n",
        "<tr>\n",
        "<td style=\"text-align:left;\"><code>year</code></td>\n",
        "<td>int</td>\n",
        "<td>Year of video game release</td>\n",
        "</tr>\n",
        "<tr>\n",
        "<td style=\"text-align:left;\"><code>num_games</code></td>\n",
        "<td>int</td>\n",
        "<td>Count of the number of video games released in that year</td>\n",
        "</tr>\n",
        "<tr>\n",
        "<td style=\"text-align:left;\"><code>avg_critic_score</code></td>\n",
        "<td>float</td>\n",
        "<td>Average of all critic scores for games released in that year</td>\n",
        "</tr>\n",
        "</tbody>\n",
        "</table>\n",
        "<h3 id=\"top_user_years_more_than_four_games\"><code>top_user_years_more_than_four_games</code></h3>\n",
        "<table>\n",
        "<thead>\n",
        "<tr>\n",
        "<th style=\"text-align:left;\">column</th>\n",
        "<th>type</th>\n",
        "<th>meaning</th>\n",
        "</tr>\n",
        "</thead>\n",
        "<tbody>\n",
        "<tr>\n",
        "<td style=\"text-align:left;\"><code>year</code></td>\n",
        "<td>int</td>\n",
        "<td>Year of video game release</td>\n",
        "</tr>\n",
        "<tr>\n",
        "<td style=\"text-align:left;\"><code>num_games</code></td>\n",
        "<td>int</td>\n",
        "<td>Count of the number of video games released in that year</td>\n",
        "</tr>\n",
        "<tr>\n",
        "<td style=\"text-align:left;\"><code>avg_user_score</code></td>\n",
        "<td>float</td>\n",
        "<td>Average of all user scores for games released in that year</td>\n",
        "</tr>\n",
        "</tbody>\n",
        "</table>"
      ]
    },
    {
      "metadata": {
        "dc": {
          "key": "49"
        },
        "tags": [
          "sample_code"
        ],
        "trusted": true,
        "id": "sW2-AwaJY80e",
        "outputId": "e5cacdd3-7dca-4d0c-ff3e-6d336e7cf5b2"
      },
      "cell_type": "code",
      "source": [
        "%%sql \n",
        "\n",
        "SELECT year\n",
        "from top_critic_years_more_than_four_games\n",
        "INTERSECT\n",
        "select year\n",
        "from top_user_years_more_than_four_games"
      ],
      "execution_count": null,
      "outputs": [
        {
          "output_type": "stream",
          "text": " * postgresql:///games\n3 rows affected.\n",
          "name": "stdout"
        },
        {
          "output_type": "execute_result",
          "execution_count": 14,
          "data": {
            "text/plain": "[(1998,), (2008,), (2002,)]",
            "text/html": "<table>\n    <thead>\n        <tr>\n            <th>year</th>\n        </tr>\n    </thead>\n    <tbody>\n        <tr>\n            <td>1998</td>\n        </tr>\n        <tr>\n            <td>2008</td>\n        </tr>\n        <tr>\n            <td>2002</td>\n        </tr>\n    </tbody>\n</table>"
          },
          "metadata": {}
        }
      ]
    },
    {
      "metadata": {
        "dc": {
          "key": "56"
        },
        "deletable": false,
        "editable": false,
        "run_control": {
          "frozen": true
        },
        "tags": [
          "context"
        ],
        "id": "4MYeVdzoY80f"
      },
      "cell_type": "markdown",
      "source": [
        "## 8. Sales in the best video game years\n"
      ]
    },
    {
      "metadata": {
        "dc": {
          "key": "56"
        },
        "tags": [
          "sample_code"
        ],
        "trusted": true,
        "id": "E7MKsDXpY80f",
        "outputId": "269c2861-5b7a-4595-f326-9659b4be2c93"
      },
      "cell_type": "code",
      "source": [
        "%%sql \n",
        "\n",
        "SELECT year, SUM(games_sold) as total_games_sold\n",
        "from game_sales\n",
        "where year in\n",
        "(SELECT year\n",
        "from top_critic_years_more_than_four_games\n",
        "INTERSECT\n",
        "select year\n",
        "from top_user_years_more_than_four_games)\n",
        "group by year\n",
        "order by total_games_sold DESC\n"
      ],
      "execution_count": null,
      "outputs": [
        {
          "output_type": "stream",
          "text": " * postgresql:///games\n3 rows affected.\n",
          "name": "stdout"
        },
        {
          "output_type": "execute_result",
          "execution_count": 16,
          "data": {
            "text/plain": "[(2008, Decimal('175.07')),\n (1998, Decimal('101.52')),\n (2002, Decimal('58.67'))]",
            "text/html": "<table>\n    <thead>\n        <tr>\n            <th>year</th>\n            <th>total_games_sold</th>\n        </tr>\n    </thead>\n    <tbody>\n        <tr>\n            <td>2008</td>\n            <td>175.07</td>\n        </tr>\n        <tr>\n            <td>1998</td>\n            <td>101.52</td>\n        </tr>\n        <tr>\n            <td>2002</td>\n            <td>58.67</td>\n        </tr>\n    </tbody>\n</table>"
          },
          "metadata": {}
        }
      ]
    }
  ],
  "metadata": {
    "kernelspec": {
      "name": "python3",
      "display_name": "Python 3",
      "language": "python"
    },
    "language_info": {
      "name": "python",
      "version": "3.6.7",
      "mimetype": "text/x-python",
      "codemirror_mode": {
        "name": "ipython",
        "version": 3
      },
      "pygments_lexer": "ipython3",
      "nbconvert_exporter": "python",
      "file_extension": ".py"
    },
    "colab": {
      "name": "sql-games.ipynb",
      "provenance": [],
      "include_colab_link": true
    }
  },
  "nbformat": 4,
  "nbformat_minor": 0
}